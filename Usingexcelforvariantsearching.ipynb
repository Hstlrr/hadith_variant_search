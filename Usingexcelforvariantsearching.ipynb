{
  "nbformat": 4,
  "nbformat_minor": 0,
  "metadata": {
    "colab": {
      "provenance": [],
      "authorship_tag": "ABX9TyNAhj0xRIkIMA1LiAcPp5m9",
      "include_colab_link": true
    },
    "kernelspec": {
      "name": "python3",
      "display_name": "Python 3"
    },
    "language_info": {
      "name": "python"
    }
  },
  "cells": [
    {
      "cell_type": "markdown",
      "metadata": {
        "id": "view-in-github",
        "colab_type": "text"
      },
      "source": [
        "<a href=\"https://colab.research.google.com/github/Hstlrr/hadith_variant_search/blob/main/Usingexcelforvariantsearching.ipynb\" target=\"_parent\"><img src=\"https://colab.research.google.com/assets/colab-badge.svg\" alt=\"Open In Colab\"/></a>"
      ]
    },
    {
      "cell_type": "code",
      "execution_count": null,
      "metadata": {
        "colab": {
          "base_uri": "https://localhost:8080/"
        },
        "id": "5SDx8osT2Wep",
        "outputId": "d6a71397-28fc-47e9-b03a-43ada31f6db1"
      },
      "outputs": [
        {
          "output_type": "stream",
          "name": "stdout",
          "text": [
            "Collecting camel-tools\n",
            "  Downloading camel_tools-1.5.2-py3-none-any.whl (124 kB)\n",
            "\u001b[2K     \u001b[90m━━━━━━━━━━━━━━━━━━━━━━━━━━━━━━━━━━━━━━━━\u001b[0m \u001b[32m124.3/124.3 kB\u001b[0m \u001b[31m1.2 MB/s\u001b[0m eta \u001b[36m0:00:00\u001b[0m\n",
            "\u001b[?25hRequirement already satisfied: future in /usr/local/lib/python3.10/dist-packages (from camel-tools) (0.18.3)\n",
            "Requirement already satisfied: six in /usr/local/lib/python3.10/dist-packages (from camel-tools) (1.16.0)\n",
            "Collecting docopt (from camel-tools)\n",
            "  Downloading docopt-0.6.2.tar.gz (25 kB)\n",
            "  Preparing metadata (setup.py) ... \u001b[?25l\u001b[?25hdone\n",
            "Requirement already satisfied: cachetools in /usr/local/lib/python3.10/dist-packages (from camel-tools) (5.3.2)\n",
            "Requirement already satisfied: numpy in /usr/local/lib/python3.10/dist-packages (from camel-tools) (1.23.5)\n",
            "Requirement already satisfied: scipy in /usr/local/lib/python3.10/dist-packages (from camel-tools) (1.11.4)\n",
            "Requirement already satisfied: pandas in /usr/local/lib/python3.10/dist-packages (from camel-tools) (1.5.3)\n",
            "Requirement already satisfied: scikit-learn in /usr/local/lib/python3.10/dist-packages (from camel-tools) (1.2.2)\n",
            "Collecting dill (from camel-tools)\n",
            "  Downloading dill-0.3.7-py3-none-any.whl (115 kB)\n",
            "\u001b[2K     \u001b[90m━━━━━━━━━━━━━━━━━━━━━━━━━━━━━━━━━━━━━━━━\u001b[0m \u001b[32m115.3/115.3 kB\u001b[0m \u001b[31m4.3 MB/s\u001b[0m eta \u001b[36m0:00:00\u001b[0m\n",
            "\u001b[?25hRequirement already satisfied: torch>=1.3 in /usr/local/lib/python3.10/dist-packages (from camel-tools) (2.1.0+cu121)\n",
            "Requirement already satisfied: transformers>=3.0.2 in /usr/local/lib/python3.10/dist-packages (from camel-tools) (4.35.2)\n",
            "Requirement already satisfied: editdistance in /usr/local/lib/python3.10/dist-packages (from camel-tools) (0.6.2)\n",
            "Requirement already satisfied: requests in /usr/local/lib/python3.10/dist-packages (from camel-tools) (2.31.0)\n",
            "Collecting emoji (from camel-tools)\n",
            "  Downloading emoji-2.9.0-py2.py3-none-any.whl (397 kB)\n",
            "\u001b[2K     \u001b[90m━━━━━━━━━━━━━━━━━━━━━━━━━━━━━━━━━━━━━━━━\u001b[0m \u001b[32m397.5/397.5 kB\u001b[0m \u001b[31m11.6 MB/s\u001b[0m eta \u001b[36m0:00:00\u001b[0m\n",
            "\u001b[?25hCollecting pyrsistent (from camel-tools)\n",
            "  Downloading pyrsistent-0.20.0-cp310-cp310-manylinux_2_17_x86_64.manylinux2014_x86_64.whl (117 kB)\n",
            "\u001b[2K     \u001b[90m━━━━━━━━━━━━━━━━━━━━━━━━━━━━━━━━━━━━━━━━\u001b[0m \u001b[32m117.7/117.7 kB\u001b[0m \u001b[31m8.2 MB/s\u001b[0m eta \u001b[36m0:00:00\u001b[0m\n",
            "\u001b[?25hRequirement already satisfied: tabulate in /usr/local/lib/python3.10/dist-packages (from camel-tools) (0.9.0)\n",
            "Requirement already satisfied: tqdm in /usr/local/lib/python3.10/dist-packages (from camel-tools) (4.66.1)\n",
            "Collecting muddler (from camel-tools)\n",
            "  Downloading muddler-0.1.3-py3-none-any.whl (16 kB)\n",
            "Collecting camel-kenlm>=2023.3.17.2 (from camel-tools)\n",
            "  Downloading camel-kenlm-2023.3.17.2.tar.gz (426 kB)\n",
            "\u001b[2K     \u001b[90m━━━━━━━━━━━━━━━━━━━━━━━━━━━━━━━━━━━━━━━━\u001b[0m \u001b[32m426.6/426.6 kB\u001b[0m \u001b[31m10.8 MB/s\u001b[0m eta \u001b[36m0:00:00\u001b[0m\n",
            "\u001b[?25h  Installing build dependencies ... \u001b[?25l\u001b[?25hdone\n",
            "  Getting requirements to build wheel ... \u001b[?25l\u001b[?25hdone\n",
            "  Preparing metadata (pyproject.toml) ... \u001b[?25l\u001b[?25hdone\n",
            "Requirement already satisfied: filelock in /usr/local/lib/python3.10/dist-packages (from torch>=1.3->camel-tools) (3.13.1)\n",
            "Requirement already satisfied: typing-extensions in /usr/local/lib/python3.10/dist-packages (from torch>=1.3->camel-tools) (4.5.0)\n",
            "Requirement already satisfied: sympy in /usr/local/lib/python3.10/dist-packages (from torch>=1.3->camel-tools) (1.12)\n",
            "Requirement already satisfied: networkx in /usr/local/lib/python3.10/dist-packages (from torch>=1.3->camel-tools) (3.2.1)\n",
            "Requirement already satisfied: jinja2 in /usr/local/lib/python3.10/dist-packages (from torch>=1.3->camel-tools) (3.1.2)\n",
            "Requirement already satisfied: fsspec in /usr/local/lib/python3.10/dist-packages (from torch>=1.3->camel-tools) (2023.6.0)\n",
            "Requirement already satisfied: triton==2.1.0 in /usr/local/lib/python3.10/dist-packages (from torch>=1.3->camel-tools) (2.1.0)\n",
            "Requirement already satisfied: huggingface-hub<1.0,>=0.16.4 in /usr/local/lib/python3.10/dist-packages (from transformers>=3.0.2->camel-tools) (0.19.4)\n",
            "Requirement already satisfied: packaging>=20.0 in /usr/local/lib/python3.10/dist-packages (from transformers>=3.0.2->camel-tools) (23.2)\n",
            "Requirement already satisfied: pyyaml>=5.1 in /usr/local/lib/python3.10/dist-packages (from transformers>=3.0.2->camel-tools) (6.0.1)\n",
            "Requirement already satisfied: regex!=2019.12.17 in /usr/local/lib/python3.10/dist-packages (from transformers>=3.0.2->camel-tools) (2023.6.3)\n",
            "Requirement already satisfied: tokenizers<0.19,>=0.14 in /usr/local/lib/python3.10/dist-packages (from transformers>=3.0.2->camel-tools) (0.15.0)\n",
            "Requirement already satisfied: safetensors>=0.3.1 in /usr/local/lib/python3.10/dist-packages (from transformers>=3.0.2->camel-tools) (0.4.1)\n",
            "Requirement already satisfied: python-dateutil>=2.8.1 in /usr/local/lib/python3.10/dist-packages (from pandas->camel-tools) (2.8.2)\n",
            "Requirement already satisfied: pytz>=2020.1 in /usr/local/lib/python3.10/dist-packages (from pandas->camel-tools) (2023.3.post1)\n",
            "Requirement already satisfied: charset-normalizer<4,>=2 in /usr/local/lib/python3.10/dist-packages (from requests->camel-tools) (3.3.2)\n",
            "Requirement already satisfied: idna<4,>=2.5 in /usr/local/lib/python3.10/dist-packages (from requests->camel-tools) (3.6)\n",
            "Requirement already satisfied: urllib3<3,>=1.21.1 in /usr/local/lib/python3.10/dist-packages (from requests->camel-tools) (2.0.7)\n",
            "Requirement already satisfied: certifi>=2017.4.17 in /usr/local/lib/python3.10/dist-packages (from requests->camel-tools) (2023.11.17)\n",
            "Requirement already satisfied: joblib>=1.1.1 in /usr/local/lib/python3.10/dist-packages (from scikit-learn->camel-tools) (1.3.2)\n",
            "Requirement already satisfied: threadpoolctl>=2.0.0 in /usr/local/lib/python3.10/dist-packages (from scikit-learn->camel-tools) (3.2.0)\n",
            "Requirement already satisfied: MarkupSafe>=2.0 in /usr/local/lib/python3.10/dist-packages (from jinja2->torch>=1.3->camel-tools) (2.1.3)\n",
            "Requirement already satisfied: mpmath>=0.19 in /usr/local/lib/python3.10/dist-packages (from sympy->torch>=1.3->camel-tools) (1.3.0)\n",
            "Building wheels for collected packages: camel-kenlm, docopt\n",
            "  Building wheel for camel-kenlm (pyproject.toml) ... \u001b[?25l\u001b[?25hdone\n",
            "  Created wheel for camel-kenlm: filename=camel_kenlm-2023.3.17.2-cp310-cp310-linux_x86_64.whl size=3453089 sha256=b050ea653163890f8b3d3422efa466c4f3f8a714ee3095fbcd9179aeb4409594\n",
            "  Stored in directory: /root/.cache/pip/wheels/29/c5/32/09633c3b70fdfc470b2fb912bd9e90d8d6814df68c794dcaa6\n",
            "  Building wheel for docopt (setup.py) ... \u001b[?25l\u001b[?25hdone\n",
            "  Created wheel for docopt: filename=docopt-0.6.2-py2.py3-none-any.whl size=13706 sha256=a631af7eedd1db7e64df68ccb722a9fc956be39e82d10c116bc874d9866d0d8f\n",
            "  Stored in directory: /root/.cache/pip/wheels/fc/ab/d4/5da2067ac95b36618c629a5f93f809425700506f72c9732fac\n",
            "Successfully built camel-kenlm docopt\n",
            "Installing collected packages: docopt, camel-kenlm, pyrsistent, muddler, emoji, dill, camel-tools\n",
            "Successfully installed camel-kenlm-2023.3.17.2 camel-tools-1.5.2 dill-0.3.7 docopt-0.6.2 emoji-2.9.0 muddler-0.1.3 pyrsistent-0.20.0\n"
          ]
        }
      ],
      "source": [
        "!pip install camel-tools\n"
      ]
    },
    {
      "cell_type": "code",
      "source": [
        "import pandas as pd\n",
        "from sklearn.feature_extraction.text import TfidfVectorizer\n",
        "from sklearn.metrics.pairwise import cosine_similarity\n",
        "from camel_tools.tokenizers.word import simple_word_tokenize\n",
        "from camel_tools.utils.normalize import normalize_unicode, normalize_alef_maksura_ar, normalize_alef_ar, normalize_teh_marbuta_ar\n"
      ],
      "metadata": {
        "id": "b0QbZ5PJ5Aro"
      },
      "execution_count": null,
      "outputs": []
    },
    {
      "cell_type": "code",
      "source": [
        "dataset_path = '/content/combined_hadiths.csv'"
      ],
      "metadata": {
        "id": "10Z7G5hy5DIw"
      },
      "execution_count": null,
      "outputs": []
    },
    {
      "cell_type": "code",
      "source": [
        "df = pd.read_csv(dataset_path)"
      ],
      "metadata": {
        "colab": {
          "base_uri": "https://localhost:8080/"
        },
        "id": "shHfoz_C5GnM",
        "outputId": "8f1039a8-3121-4686-b566-0f45adfe3860"
      },
      "execution_count": null,
      "outputs": [
        {
          "output_type": "stream",
          "name": "stderr",
          "text": [
            "<ipython-input-4-987f6916f0f8>:1: DtypeWarning: Columns (6) have mixed types. Specify dtype option on import or set low_memory=False.\n",
            "  df = pd.read_csv(dataset_path)\n"
          ]
        }
      ]
    },
    {
      "cell_type": "code",
      "source": [
        "matn_texts = df['Arabic_Matn'].tolist()\n",
        "\n",
        "df = df.dropna(subset=['Arabic_Matn'])\n",
        "matn_texts = df['Arabic_Matn'].tolist()"
      ],
      "metadata": {
        "id": "0QhDizqJ5Nj3"
      },
      "execution_count": null,
      "outputs": []
    },
    {
      "cell_type": "code",
      "source": [
        "vectorizer = TfidfVectorizer(tokenizer=simple_word_tokenize)\n",
        "tfidf_matrix = vectorizer.fit_transform(matn_texts)"
      ],
      "metadata": {
        "colab": {
          "base_uri": "https://localhost:8080/"
        },
        "id": "589re_FP5QBp",
        "outputId": "365201a8-cb69-4665-9f17-b9a8f431b173"
      },
      "execution_count": null,
      "outputs": [
        {
          "output_type": "stream",
          "name": "stderr",
          "text": [
            "/usr/local/lib/python3.10/dist-packages/sklearn/feature_extraction/text.py:528: UserWarning: The parameter 'token_pattern' will not be used since 'tokenizer' is not None'\n",
            "  warnings.warn(\n"
          ]
        }
      ]
    },
    {
      "cell_type": "code",
      "source": [
        "def find_and_display_variants(input_text, threshold=0.8):\n",
        "    # Clean and transform the input text\n",
        "    cleaned_input = input_text.replace('\\u200f', '')\n",
        "    input_vector = vectorizer.transform([cleaned_input])\n",
        "\n",
        "    # Compute the cosine similarity\n",
        "    cosine_sim_input = cosine_similarity(input_vector, tfidf_matrix)\n",
        "\n",
        "    # Find similar hadiths\n",
        "    similarity_scores = list(enumerate(cosine_sim_input[0]))\n",
        "    similar_hadiths_indices = [i for i, score in similarity_scores if score > threshold]\n",
        "\n",
        "    print(\"Variants of the input hadith with at least 80% similarity:\")\n",
        "    for index in similar_hadiths_indices:\n",
        "        chapter_number = df['Chapter_Number'][index]\n",
        "        hadith_number = df['Hadith_number'][index]\n",
        "        text = df['Arabic_Matn'][index]\n",
        "        collection = df['Collection'][index]\n",
        "        print(f\"Collection: {collection}, Index: {index}, Chapter: {chapter_number}, Hadith: {hadith_number}, Similarity: {cosine_sim_input[0][index]}, Text: {text}\")\n",
        "\n"
      ],
      "metadata": {
        "id": "nGngJFQt7_Jk"
      },
      "execution_count": null,
      "outputs": []
    },
    {
      "cell_type": "code",
      "source": [
        "input_hadith = 'أَنَّ رَسُولَ اللَّهِ صلى الله عليه وسلم أَمَرَ بِقَتْلِ الْكِلاَبِ ثُمَّ قَالَ مَا لَهُمْ وَلِلْكِلاَبِ ثُمَّ رَخَّصَ لَهُمْ فِي كَلْبِ الصَّيْدِ'\n",
        "# Test the function with the input hadith\n",
        "find_and_display_variants(input_hadith, threshold=0.3)"
      ],
      "metadata": {
        "colab": {
          "base_uri": "https://localhost:8080/"
        },
        "id": "W-gRo7tR8G-O",
        "outputId": "3195b8e5-ea60-4803-bca0-f3bf78ff24d0"
      },
      "execution_count": null,
      "outputs": [
        {
          "output_type": "stream",
          "name": "stdout",
          "text": [
            "Variants of the input hadith with at least 80% similarity:\n",
            "Collection: AbuDaud, Index: 73, Chapter: 1, Hadith: 74.0, Similarity: 0.4705217539631458, Text: أَنَّ رَسُولَ اللَّهِ صلى الله عليه وسلم أَمَرَ بِقَتْلِ الْكِلاَبِ ثُمَّ قَالَ مَا لَهُمْ وَلَهَا فَرَخَّصَ فِي كَلْبِ الصَّيْدِ وَفِي كَلْبِ الْغَنَمِ وَقَالَ إِذَا وَلَغَ الْكَلْبُ فِي الإِنَاءِ فَاغْسِلُوهُ سَبْعَ مِرَارٍ وَالثَّامِنَةُ عَفِّرُوهُ بِالتُّرَابِ قَالَ أَبُو دَاوُدَ وَهَكَذَا قَالَ ابْنُ مُغَفَّلٍ\n",
            "Collection: Bukhari, Index: 8257, Chapter: 59, Hadith: 3199.0, Similarity: 0.5164663838080821, Text: قَالَ النَّبِيُّ صلى الله عليه وسلم لأَبِي ذَرٍّ حِينَ غَرَبَتِ الشَّمْسُ ‏\"‏ تَدْرِي أَيْنَ تَذْهَبُ ‏\"‏‏.‏ قُلْتُ اللَّهُ وَرَسُولُهُ أَعْلَمُ‏.‏ قَالَ ‏\"‏ فَإِنَّهَا تَذْهَبُ حَتَّى تَسْجُدَ تَحْتَ الْعَرْشِ، فَتَسْتَأْذِنَ فَيُؤْذَنَ لَهَا، وَيُوشِكُ أَنْ تَسْجُدَ فَلاَ يُقْبَلَ مِنْهَا، وَتَسْتَأْذِنَ فَلاَ يُؤْذَنَ لَهَا، يُقَالُ لَهَا ارْجِعِي مِنْ حَيْثُ جِئْتِ‏.‏ فَتَطْلُعُ مِنْ مَغْرِبِهَا، فَذَلِكَ قَوْلُهُ تَعَالَى ‏{‏وَالشَّمْسُ تَجْرِي لِمُسْتَقَرٍّ لَهَا ذَلِكَ تَقْدِيرُ الْعَزِيزِ الْعَلِيمِ ‏}‏‏\"‏‏.‏\n",
            "Collection: IbnMaja, Index: 15594, Chapter: 25, Hadith: 3112, Similarity: 1.0000000000000002, Text: قَالَ نَهَى رَسُولُ اللَّهِ صلى الله عليه وسلم أَنْ يَنْفِرَ الرَّجُلُ حَتَّى يَكُونَ آخِرُ عَهْدِهِ بِالْبَيْتِ\n",
            "Collection: IbnMaja, Index: 15595, Chapter: 25, Hadith: 3113, Similarity: 0.6475904362834742, Text: قَالَتْ حَاضَتْ صَفِيَّةُ بِنْتُ حُيَىٍّ بَعْدَمَا أَفَاضَتْ قَالَتْ عَائِشَةُ فَذَكَرْتُ ذَلِكَ لِرَسُولِ اللَّهِ صلى الله عليه وسلم فَقَالَ أَحَابِسَتُنَا هِيَ فَقُلْتُ إِنَّهَا قَدْ أَفَاضَتْ ثُمَّ حَاضَتْ بَعْدَ ذَلِكَ قَالَ رَسُولُ اللَّهِ صلى الله عليه وسلم فَلْتَنْفِرْ\n",
            "Collection: IbnMaja, Index: 15596, Chapter: 25, Hadith: 3114, Similarity: 0.5020176519840505, Text: عَائِشَةَ، قَالَتْ ذَكَرَ رَسُولُ اللَّهِ صلى الله عليه وسلم صَفِيَّةَ فَقُلْنَا قَدْ حَاضَتْ فَقَالَ عَقْرَى حَلْقَى مَا أُرَاهَا إِلاَّ حَابِسَتَنَا فَقُلْنَا يَا رَسُولَ اللَّهِ إِنَّهَا قَدْ طَافَتْ يَوْمَ النَّحْرِ قَالَ فَلاَ إِذًا مُرُوهَا فَلْتَنْفِرْ\n",
            "Collection: Muslim, Index: 17375, Chapter: 1, Hadith: 491, Similarity: 0.47106715090943324, Text: قَالَ رَسُولُ اللَّهِ صلى الله عليه وسلم لِكُلِّ نَبِيٍّ دَعْوَةٌ مُسْتَجَابَةٌ فَتَعَجَّلَ كُلُّ نَبِيٍّ دَعْوَتَهُ وَإِنِّي اخْتَبَأْتُ دَعْوَتِي شَفَاعَةً لأُمَّتِي يَوْمَ الْقِيَامَةِ فَهِيَ نَائِلَةٌ إِنْ شَاءَ اللَّهُ مَنْ مَاتَ مِنْ أُمَّتِي لاَ يُشْرِكُ بِاللَّهِ شَيْئًا\n",
            "Collection: Muslim, Index: 20457, Chapter: 17, Hadith: 3573, Similarity: 0.5266049467339889, Text: تِسْعَ بَنَاتٍ أَوْ قَالَ سَبْعَ فَتَزَوَّجْتُ امْرَأَةً ثَيِّبًا فَقَالَ لِي رَسُولُ اللَّهِ صلى الله عليه وسلم يَا جَابِرُ تَزَوَّجْتَ قَالَ قُلْتُ نَعَمْ قَالَ فَبِكْرٌ أَمْ ثَيِّبٌ قَالَ قُلْتُ بَلْ ثَيِّبٌ يَا رَسُولَ اللَّهِ قَالَ فَهَلاَّ جَارِيَةً تُلاَعِبُهَا وَتُلاَعِبُكَ أَوْ قَالَ تُضَاحِكُهَا وَتُضَاحِكُكَ قَالَ قُلْتُ لَهُ إِنَّ عَبْدَ اللَّهِ هَلَكَ وَتَرَكَ تِسْعَ بَنَاتٍ أَوْ سَبْعَ وَإِنِّي كَرِهْتُ أَنْ آتِيَهُنَّ أَوْ أَجِيئَهُنَّ بِمِثْلِهِنَّ فَأَحْبَبْتُ أَنْ أَجِيءَ بِامْرَأَةٍ تَقُومُ عَلَيْهِنَّ وَتُصْلِحُهُنَّ قَالَ فَبَارَكَ اللَّهُ لَكَ أَوْ قَالَ لِي خَيْرًا وَفِي رِوَايَةِ أَبِي الرَّبِيعِ تُلاَعِبُهَا وَتُلاَعِبُكَ وَتُضَاحِكُهَا وَتُضَاحِكُكَ\n",
            "Collection: Muslim, Index: 20458, Chapter: 17, Hadith: 3574, Similarity: 0.3171617215345437, Text: قَالَ لِي رَسُولُ اللَّهِ صلى الله عليه وسلم هَلْ نَكَحْتَ يَا جَابِرُ وَسَاقَ الْحَدِيثَ إِلَى قَوْلِهِ امْرَأَةً تَقُومُ عَلَيْهِنَّ وَتَمْشُطُهُنَّ قَالَ أَصَبْتَ وَلَمْ يَذْكُرْ مَا بَعْدَهُ\n",
            "Collection: Muslim, Index: 20462, Chapter: 17, Hadith: 3578, Similarity: 0.6056105057410206, Text: أَنَّ رَسُولَ اللَّهِ صلى الله عليه وسلم قَالَ الدُّنْيَا مَتَاعٌ وَخَيْرُ مَتَاعِ الدُّنْيَا الْمَرْأَةُ الصَّالِحَةُ‏‏\n",
            "Collection: Muslim, Index: 23602, Chapter: 48, Hadith: 6718, Similarity: 0.389977331688622, Text: قَالَ، كُنَّا عِنْدَ رَسُولِ اللَّهِ صلى الله عليه وسلم فَقَالَ أَيَعْجِزُ أَحَدُكُمْ أَنْ يَكْسِبَ كُلَّ يَوْمٍ أَلْفَ حَسَنَةٍ فَسَأَلَهُ سَائِلٌ مِنْ جُلَسَائِهِ كَيْفَ يَكْسِبُ أَحَدُنَا أَلْفَ حَسَنَةٍ قَالَ يُسَبِّحُ مِائَةَ تَسْبِيحَةٍ فَيُكْتَبُ لَهُ أَلْفُ حَسَنَةٍ أَوْ يُحَطُّ عَنْهُ أَلْفُ خَطِيئَةٍ\n",
            "Collection: Muslim, Index: 23869, Chapter: 53, Hadith: 6985, Similarity: 0.389977331688622, Text: الدَّوْرَقِيُّ، جَمِيعًا عَنِ ابْنِ عُلَيَّةَ، وَاللَّفْظُ لِيَعْقُوبَ قَالاَ حَدَّثَنَا إِسْمَاعِيلُ ابْنُ عُلَيَّةَ، أَخْبَرَنَا أَيُّوبُ، عَنْ مُحَمَّدٍ، قَالَ إِمَّا تَفَاخَرُوا وَإِمَّا تَذَاكَرُوا الرِّجَالُ فِي الْجَنَّةِ أَكْثَرُ أَمِ النِّسَاءُ فَقَالَ أَبُو هُرَيْرَةَ أَوَلَمْ يَقُلْ أَبُو الْقَاسِمِ صلى الله عليه وسلم إِنَّ أَوَّلَ زُمْرَةٍ تَدْخُلُ الْجَنَّةَ عَلَى صُورَةِ الْقَمَرِ لَيْلَةَ الْبَدْرِ وَالَّتِي تَلِيهَا عَلَى أَضْوَإِ كَوْكَبٍ دُرِّيٍّ فِي السَّمَاءِ لِكُلِّ امْرِئٍ مِنْهُمْ زَوْجَتَانِ اثْنَتَانِ يُرَى مُخُّ سُوقِهِمَا مِنْ وَرَاءِ اللَّحْمِ وَمَا فِي الْجَنَّةِ أَعْزَبُ\n",
            "Collection: Muslim, Index: 23870, Chapter: 53, Hadith: 6986, Similarity: 0.3509129258857796, Text: قَالَ اخْتَصَمَ الرِّجَالُ وَالنِّسَاءُ أَيُّهُمْ فِي الْجَنَّةِ أَكْثَرُ فَسَأَلُوا أَبَا هُرَيْرَةَ فَقَالَ قَالَ أَبُو الْقَاسِمِ صلى الله عليه وسلم بِمِثْلِ حَدِيثِ ابْنِ عُلَيَّةَ\n",
            "Collection: Nesai, Index: 27691, Chapter: 27, Hadith: 3493, Similarity: 0.4151115434295926, Text:  أَبِي الْخَلِيلِ أَنَّ ثَلاَثَةَ، نَفَرٍ اشْتَرَكُوا فِي طُهْرٍ فَذَكَرَ نَحْوَهُ وَلَمْ يَذْكُرْ زَيْدَ بْنَ أَرْقَمَ وَلَمْ يَرْفَعْهُ قَالَ أَبُو عَبْدِ الرَّحْمَنِ هَذَا صَوَابٌ وَاللَّهُ سُبْحَانَهُ وَتَعَالَى أَعْلَمُ\n"
          ]
        }
      ]
    }
  ]
}