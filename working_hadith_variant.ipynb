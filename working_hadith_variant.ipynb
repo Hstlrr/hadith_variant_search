{
  "nbformat": 4,
  "nbformat_minor": 0,
  "metadata": {
    "colab": {
      "provenance": [],
      "gpuType": "T4",
      "authorship_tag": "ABX9TyObYLAK0gw4jG0yDxREOMAJ",
      "include_colab_link": true
    },
    "kernelspec": {
      "name": "python3",
      "display_name": "Python 3"
    },
    "language_info": {
      "name": "python"
    },
    "accelerator": "GPU"
  },
  "cells": [
    {
      "cell_type": "markdown",
      "metadata": {
        "id": "view-in-github",
        "colab_type": "text"
      },
      "source": [
        "<a href=\"https://colab.research.google.com/github/Hstlrr/hadith_variant_search/blob/main/working_hadith_variant.ipynb\" target=\"_parent\"><img src=\"https://colab.research.google.com/assets/colab-badge.svg\" alt=\"Open In Colab\"/></a>"
      ]
    },
    {
      "cell_type": "code",
      "execution_count": 1,
      "metadata": {
        "colab": {
          "base_uri": "https://localhost:8080/"
        },
        "id": "KL1GqWPiE-9n",
        "outputId": "f3c5c862-82e4-47b0-cbf5-284582b930a2"
      },
      "outputs": [
        {
          "output_type": "stream",
          "name": "stdout",
          "text": [
            "Collecting camel-tools\n",
            "  Downloading camel_tools-1.5.2-py3-none-any.whl (124 kB)\n",
            "\u001b[2K     \u001b[90m━━━━━━━━━━━━━━━━━━━━━━━━━━━━━━━━━━━━━━━━\u001b[0m \u001b[32m124.3/124.3 kB\u001b[0m \u001b[31m1.3 MB/s\u001b[0m eta \u001b[36m0:00:00\u001b[0m\n",
            "\u001b[?25hRequirement already satisfied: future in /usr/local/lib/python3.10/dist-packages (from camel-tools) (0.18.3)\n",
            "Requirement already satisfied: six in /usr/local/lib/python3.10/dist-packages (from camel-tools) (1.16.0)\n",
            "Collecting docopt (from camel-tools)\n",
            "  Downloading docopt-0.6.2.tar.gz (25 kB)\n",
            "  Preparing metadata (setup.py) ... \u001b[?25l\u001b[?25hdone\n",
            "Requirement already satisfied: cachetools in /usr/local/lib/python3.10/dist-packages (from camel-tools) (5.3.2)\n",
            "Requirement already satisfied: numpy in /usr/local/lib/python3.10/dist-packages (from camel-tools) (1.23.5)\n",
            "Requirement already satisfied: scipy in /usr/local/lib/python3.10/dist-packages (from camel-tools) (1.11.4)\n",
            "Requirement already satisfied: pandas in /usr/local/lib/python3.10/dist-packages (from camel-tools) (1.5.3)\n",
            "Requirement already satisfied: scikit-learn in /usr/local/lib/python3.10/dist-packages (from camel-tools) (1.2.2)\n",
            "Collecting dill (from camel-tools)\n",
            "  Downloading dill-0.3.7-py3-none-any.whl (115 kB)\n",
            "\u001b[2K     \u001b[90m━━━━━━━━━━━━━━━━━━━━━━━━━━━━━━━━━━━━━━━━\u001b[0m \u001b[32m115.3/115.3 kB\u001b[0m \u001b[31m6.1 MB/s\u001b[0m eta \u001b[36m0:00:00\u001b[0m\n",
            "\u001b[?25hRequirement already satisfied: torch>=1.3 in /usr/local/lib/python3.10/dist-packages (from camel-tools) (2.1.0+cu121)\n",
            "Requirement already satisfied: transformers>=3.0.2 in /usr/local/lib/python3.10/dist-packages (from camel-tools) (4.35.2)\n",
            "Requirement already satisfied: editdistance in /usr/local/lib/python3.10/dist-packages (from camel-tools) (0.6.2)\n",
            "Requirement already satisfied: requests in /usr/local/lib/python3.10/dist-packages (from camel-tools) (2.31.0)\n",
            "Collecting emoji (from camel-tools)\n",
            "  Downloading emoji-2.9.0-py2.py3-none-any.whl (397 kB)\n",
            "\u001b[2K     \u001b[90m━━━━━━━━━━━━━━━━━━━━━━━━━━━━━━━━━━━━━━━━\u001b[0m \u001b[32m397.5/397.5 kB\u001b[0m \u001b[31m7.1 MB/s\u001b[0m eta \u001b[36m0:00:00\u001b[0m\n",
            "\u001b[?25hCollecting pyrsistent (from camel-tools)\n",
            "  Downloading pyrsistent-0.20.0-cp310-cp310-manylinux_2_17_x86_64.manylinux2014_x86_64.whl (117 kB)\n",
            "\u001b[2K     \u001b[90m━━━━━━━━━━━━━━━━━━━━━━━━━━━━━━━━━━━━━━━━\u001b[0m \u001b[32m117.7/117.7 kB\u001b[0m \u001b[31m16.9 MB/s\u001b[0m eta \u001b[36m0:00:00\u001b[0m\n",
            "\u001b[?25hRequirement already satisfied: tabulate in /usr/local/lib/python3.10/dist-packages (from camel-tools) (0.9.0)\n",
            "Requirement already satisfied: tqdm in /usr/local/lib/python3.10/dist-packages (from camel-tools) (4.66.1)\n",
            "Collecting muddler (from camel-tools)\n",
            "  Downloading muddler-0.1.3-py3-none-any.whl (16 kB)\n",
            "Collecting camel-kenlm>=2023.3.17.2 (from camel-tools)\n",
            "  Downloading camel-kenlm-2023.3.17.2.tar.gz (426 kB)\n",
            "\u001b[2K     \u001b[90m━━━━━━━━━━━━━━━━━━━━━━━━━━━━━━━━━━━━━━━━\u001b[0m \u001b[32m426.6/426.6 kB\u001b[0m \u001b[31m24.3 MB/s\u001b[0m eta \u001b[36m0:00:00\u001b[0m\n",
            "\u001b[?25h  Installing build dependencies ... \u001b[?25l\u001b[?25hdone\n",
            "  Getting requirements to build wheel ... \u001b[?25l\u001b[?25hdone\n",
            "  Preparing metadata (pyproject.toml) ... \u001b[?25l\u001b[?25hdone\n",
            "Requirement already satisfied: filelock in /usr/local/lib/python3.10/dist-packages (from torch>=1.3->camel-tools) (3.13.1)\n",
            "Requirement already satisfied: typing-extensions in /usr/local/lib/python3.10/dist-packages (from torch>=1.3->camel-tools) (4.5.0)\n",
            "Requirement already satisfied: sympy in /usr/local/lib/python3.10/dist-packages (from torch>=1.3->camel-tools) (1.12)\n",
            "Requirement already satisfied: networkx in /usr/local/lib/python3.10/dist-packages (from torch>=1.3->camel-tools) (3.2.1)\n",
            "Requirement already satisfied: jinja2 in /usr/local/lib/python3.10/dist-packages (from torch>=1.3->camel-tools) (3.1.2)\n",
            "Requirement already satisfied: fsspec in /usr/local/lib/python3.10/dist-packages (from torch>=1.3->camel-tools) (2023.6.0)\n",
            "Requirement already satisfied: triton==2.1.0 in /usr/local/lib/python3.10/dist-packages (from torch>=1.3->camel-tools) (2.1.0)\n",
            "Requirement already satisfied: huggingface-hub<1.0,>=0.16.4 in /usr/local/lib/python3.10/dist-packages (from transformers>=3.0.2->camel-tools) (0.19.4)\n",
            "Requirement already satisfied: packaging>=20.0 in /usr/local/lib/python3.10/dist-packages (from transformers>=3.0.2->camel-tools) (23.2)\n",
            "Requirement already satisfied: pyyaml>=5.1 in /usr/local/lib/python3.10/dist-packages (from transformers>=3.0.2->camel-tools) (6.0.1)\n",
            "Requirement already satisfied: regex!=2019.12.17 in /usr/local/lib/python3.10/dist-packages (from transformers>=3.0.2->camel-tools) (2023.6.3)\n",
            "Requirement already satisfied: tokenizers<0.19,>=0.14 in /usr/local/lib/python3.10/dist-packages (from transformers>=3.0.2->camel-tools) (0.15.0)\n",
            "Requirement already satisfied: safetensors>=0.3.1 in /usr/local/lib/python3.10/dist-packages (from transformers>=3.0.2->camel-tools) (0.4.1)\n",
            "Requirement already satisfied: python-dateutil>=2.8.1 in /usr/local/lib/python3.10/dist-packages (from pandas->camel-tools) (2.8.2)\n",
            "Requirement already satisfied: pytz>=2020.1 in /usr/local/lib/python3.10/dist-packages (from pandas->camel-tools) (2023.3.post1)\n",
            "Requirement already satisfied: charset-normalizer<4,>=2 in /usr/local/lib/python3.10/dist-packages (from requests->camel-tools) (3.3.2)\n",
            "Requirement already satisfied: idna<4,>=2.5 in /usr/local/lib/python3.10/dist-packages (from requests->camel-tools) (3.6)\n",
            "Requirement already satisfied: urllib3<3,>=1.21.1 in /usr/local/lib/python3.10/dist-packages (from requests->camel-tools) (2.0.7)\n",
            "Requirement already satisfied: certifi>=2017.4.17 in /usr/local/lib/python3.10/dist-packages (from requests->camel-tools) (2023.11.17)\n",
            "Requirement already satisfied: joblib>=1.1.1 in /usr/local/lib/python3.10/dist-packages (from scikit-learn->camel-tools) (1.3.2)\n",
            "Requirement already satisfied: threadpoolctl>=2.0.0 in /usr/local/lib/python3.10/dist-packages (from scikit-learn->camel-tools) (3.2.0)\n",
            "Requirement already satisfied: MarkupSafe>=2.0 in /usr/local/lib/python3.10/dist-packages (from jinja2->torch>=1.3->camel-tools) (2.1.3)\n",
            "Requirement already satisfied: mpmath>=0.19 in /usr/local/lib/python3.10/dist-packages (from sympy->torch>=1.3->camel-tools) (1.3.0)\n",
            "Building wheels for collected packages: camel-kenlm, docopt\n",
            "  Building wheel for camel-kenlm (pyproject.toml) ... \u001b[?25l\u001b[?25hdone\n",
            "  Created wheel for camel-kenlm: filename=camel_kenlm-2023.3.17.2-cp310-cp310-linux_x86_64.whl size=3453094 sha256=8ba7aa196027566a64b2adee17561f0a9f168ccd46229206e817448fca8837f2\n",
            "  Stored in directory: /root/.cache/pip/wheels/29/c5/32/09633c3b70fdfc470b2fb912bd9e90d8d6814df68c794dcaa6\n",
            "  Building wheel for docopt (setup.py) ... \u001b[?25l\u001b[?25hdone\n",
            "  Created wheel for docopt: filename=docopt-0.6.2-py2.py3-none-any.whl size=13706 sha256=b59fda76e5a09bba1a693c442375c7f1699975b69e77d9d12255f441d2808b0d\n",
            "  Stored in directory: /root/.cache/pip/wheels/fc/ab/d4/5da2067ac95b36618c629a5f93f809425700506f72c9732fac\n",
            "Successfully built camel-kenlm docopt\n",
            "Installing collected packages: docopt, camel-kenlm, pyrsistent, muddler, emoji, dill, camel-tools\n",
            "Successfully installed camel-kenlm-2023.3.17.2 camel-tools-1.5.2 dill-0.3.7 docopt-0.6.2 emoji-2.9.0 muddler-0.1.3 pyrsistent-0.20.0\n"
          ]
        }
      ],
      "source": [
        "!pip install camel-tools\n"
      ]
    },
    {
      "cell_type": "code",
      "source": [
        "!pip install fastparquet"
      ],
      "metadata": {
        "colab": {
          "base_uri": "https://localhost:8080/"
        },
        "id": "64-1YZzkF1qU",
        "outputId": "6f9ff72a-c1d4-493a-db2b-c40823d9ab3f"
      },
      "execution_count": 2,
      "outputs": [
        {
          "output_type": "stream",
          "name": "stdout",
          "text": [
            "Collecting fastparquet\n",
            "  Downloading fastparquet-2023.10.1-cp310-cp310-manylinux_2_17_x86_64.manylinux2014_x86_64.whl (1.7 MB)\n",
            "\u001b[2K     \u001b[90m━━━━━━━━━━━━━━━━━━━━━━━━━━━━━━━━━━━━━━━━\u001b[0m \u001b[32m1.7/1.7 MB\u001b[0m \u001b[31m7.3 MB/s\u001b[0m eta \u001b[36m0:00:00\u001b[0m\n",
            "\u001b[?25hRequirement already satisfied: pandas>=1.5.0 in /usr/local/lib/python3.10/dist-packages (from fastparquet) (1.5.3)\n",
            "Requirement already satisfied: numpy>=1.20.3 in /usr/local/lib/python3.10/dist-packages (from fastparquet) (1.23.5)\n",
            "Collecting cramjam>=2.3 (from fastparquet)\n",
            "  Downloading cramjam-2.7.0-cp310-cp310-manylinux_2_17_x86_64.manylinux2014_x86_64.whl (1.6 MB)\n",
            "\u001b[2K     \u001b[90m━━━━━━━━━━━━━━━━━━━━━━━━━━━━━━━━━━━━━━━━\u001b[0m \u001b[32m1.6/1.6 MB\u001b[0m \u001b[31m58.5 MB/s\u001b[0m eta \u001b[36m0:00:00\u001b[0m\n",
            "\u001b[?25hRequirement already satisfied: fsspec in /usr/local/lib/python3.10/dist-packages (from fastparquet) (2023.6.0)\n",
            "Requirement already satisfied: packaging in /usr/local/lib/python3.10/dist-packages (from fastparquet) (23.2)\n",
            "Requirement already satisfied: python-dateutil>=2.8.1 in /usr/local/lib/python3.10/dist-packages (from pandas>=1.5.0->fastparquet) (2.8.2)\n",
            "Requirement already satisfied: pytz>=2020.1 in /usr/local/lib/python3.10/dist-packages (from pandas>=1.5.0->fastparquet) (2023.3.post1)\n",
            "Requirement already satisfied: six>=1.5 in /usr/local/lib/python3.10/dist-packages (from python-dateutil>=2.8.1->pandas>=1.5.0->fastparquet) (1.16.0)\n",
            "Installing collected packages: cramjam, fastparquet\n",
            "Successfully installed cramjam-2.7.0 fastparquet-2023.10.1\n"
          ]
        }
      ]
    },
    {
      "cell_type": "code",
      "source": [
        "import pandas as pd\n",
        "from sklearn.feature_extraction.text import TfidfVectorizer\n",
        "from sklearn.metrics.pairwise import cosine_similarity\n",
        "from camel_tools.tokenizers.word import simple_word_tokenize\n",
        "from camel_tools.utils.normalize import normalize_unicode, normalize_alef_maksura_ar, normalize_alef_ar, normalize_teh_marbuta_ar\n"
      ],
      "metadata": {
        "id": "t3JzIlEgF-Cj"
      },
      "execution_count": 3,
      "outputs": []
    },
    {
      "cell_type": "code",
      "source": [
        "dataset_path = '/content/lkhadith.parquet'"
      ],
      "metadata": {
        "id": "hZ4aegLcGAeC"
      },
      "execution_count": 4,
      "outputs": []
    },
    {
      "cell_type": "code",
      "source": [
        "df = pd.read_parquet(dataset_path)\n"
      ],
      "metadata": {
        "id": "Zju7Na--GBgV"
      },
      "execution_count": 5,
      "outputs": []
    },
    {
      "cell_type": "code",
      "source": [
        "matn_texts = df['Arabic_Matn'].tolist()"
      ],
      "metadata": {
        "id": "a_XK1cLoJHgX"
      },
      "execution_count": 6,
      "outputs": []
    },
    {
      "cell_type": "code",
      "source": [
        "# def preprocess_arabic(text):\n",
        "#     text = normalize_unicode(text)\n",
        "#     text = normalize_alef_maksura_ar(text)\n",
        "#     text = normalize_alef_ar(text)\n",
        "#     text = normalize_teh_marbuta_ar(text)\n",
        "#     tokens = simple_word_tokenize(text)\n",
        "#     return ' '.join(tokens)"
      ],
      "metadata": {
        "id": "lPntAB_YJSAE"
      },
      "execution_count": 7,
      "outputs": []
    },
    {
      "cell_type": "code",
      "source": [
        "# Vectorize the matn texts using TF-IDF with a custom tokenizer\n",
        "vectorizer = TfidfVectorizer(tokenizer=simple_word_tokenize)\n",
        "tfidf_matrix = vectorizer.fit_transform(matn_texts)\n"
      ],
      "metadata": {
        "colab": {
          "base_uri": "https://localhost:8080/"
        },
        "id": "pvHYpkHfKJJl",
        "outputId": "a579e6c2-aade-4c8d-c6da-421cce2eaa22"
      },
      "execution_count": 9,
      "outputs": [
        {
          "output_type": "stream",
          "name": "stderr",
          "text": [
            "/usr/local/lib/python3.10/dist-packages/sklearn/feature_extraction/text.py:528: UserWarning: The parameter 'token_pattern' will not be used since 'tokenizer' is not None'\n",
            "  warnings.warn(\n"
          ]
        }
      ]
    },
    {
      "cell_type": "code",
      "source": [
        "input_hadith = 'أُمِّ سَلَمَةَ، أَنَّهَا قَالَتْ يَغْزُو الرِّجَالُ وَلاَ يَغْزُو النِّسَاءُ وَإِنَّمَا لَنَا نِصْفُ الْمِيرَاثِ فَأَنْزَلَ اللَّهُ ‏(‏وَلاَ تَتَمَنَّوْا مَا فَضَّلَ اللَّهُ بِهِ بَعْضَكُمْ عَلَى بَعْضٍ قَالَ مُجَاهِدٌ فَأُنْزِلَ فِيهَا إِنَّ الْمُسْلِمِينَ وَالْمُسْلِمَاتِ وَكَانَتْ أُمُّ سَلَمَةَ أَوَّلَ ظَعِينَةٍ قَدِمَتِ الْمَدِينَةَ مُهَاجِرَةً قَالَ أَبُو عِيسَى هَذَا حَدِيثٌ مُرْسَلٌ وَرَوَاهُ بَعْضُهُمْ عَنِ ابْنِ أَبِي نَجِيحٍ عَنْ مُجَاهِدٍ مُرْسَلٌ أَنَّ أُمَّ سَلَمَةَ قَالَتْ كَذَا وَكَذَا'\n",
        "\n",
        "# Now you can use `input_hadith` in your code\n",
        "clean_input_hadith = input_hadith.replace('\\u200f', '')"
      ],
      "metadata": {
        "id": "D0W4nBFsMSAE"
      },
      "execution_count": 23,
      "outputs": []
    },
    {
      "cell_type": "code",
      "source": [
        "input_vector = vectorizer.transform([input_hadith])"
      ],
      "metadata": {
        "id": "t9XqYNuPMSEW"
      },
      "execution_count": 11,
      "outputs": []
    },
    {
      "cell_type": "code",
      "source": [
        "cosine_sim_input = cosine_similarity(input_vector, tfidf_matrix)\n"
      ],
      "metadata": {
        "id": "1OfDD_LNMakf"
      },
      "execution_count": 12,
      "outputs": []
    },
    {
      "cell_type": "code",
      "source": [
        "# input_hadith = 'قَالَ لَمَّا أُخْرِجَ النَّبِيُّ صلى الله عليه وسلم مِنْ مَكَّةَ قَالَ أَبُو بَكْرٍ أَخْرَجُوا نَبِيَّهُمْ لَيَهْلِكُنَّ فَأَنْزَلَ اللَّهُ ‏(‏أُذِنَ لِلَّذِينَ يُقَاتَلُونَ بِأَنَّهُمْ ظُلِمُوا وَإِنَّ اللَّهَ عَلَى نَصْرِهِمْ لَقَدِيرٌ الآيَةَ فَقَالَ أَبُو بَكْرٍ لَقَدْ عَلِمْتُ أَنَّهُ سَيَكُونُ قِتَالٌ قَالَ هَذَا حَدِيثٌ حَسَنٌ وَقَدْ رَوَاهُ عَبْدُ الرَّحْمَنِ بْنُ مَهْدِيٍّ وَغَيْرُهُ عَنْ سُفْيَانَ عَنِ الأَعْمَشِ عَنْ مُسْلِمٍ الْبَطِينِ عَنْ سَعِيدِ بْنِ جُبَيْرٍ مُرْسَلاً لَيْسَ فِيهِ عَنِ ابْنِ عَبَّاسٍ'\n",
        "# # Now you can use `input_hadith` in your code\n",
        "# clean_input_hadith = input_hadith.replace('\\u200f', '')\n",
        "\n",
        "# input_vector = vectorizer.transform([input_hadith])\n",
        "\n",
        "# cosine_sim_input = cosine_similarity(input_vector, tfidf_matrix)\n",
        "\n",
        "# # Function to find and display variants of the input hadith\n",
        "# def find_and_display_variants(threshold=0.5):\n",
        "#     similarity_scores = list(enumerate(cosine_sim_input[0]))\n",
        "#     similar_hadiths_indices = [i for i, score in similarity_scores if score > threshold]\n",
        "\n",
        "#     print(\"Variants of the input hadith with at least 80% similarity:\")\n",
        "#     for index in similar_hadiths_indices:\n",
        "#         print(f\"Index: {index}, Text: {df['Arabic_Matn'][index]}\")\n",
        "\n",
        "# # Find and display variants\n",
        "# find_and_display_variants(threshold=0.8)"
      ],
      "metadata": {
        "colab": {
          "base_uri": "https://localhost:8080/"
        },
        "id": "9GryWpH7MdOW",
        "outputId": "e414852c-9d38-47f2-e42d-b97ddd0db035"
      },
      "execution_count": 30,
      "outputs": [
        {
          "output_type": "stream",
          "name": "stdout",
          "text": [
            "Variants of the input hadith with at least 80% similarity:\n",
            "Index: 313, Text: قَالَ لَمَّا أُخْرِجَ النَّبِيُّ صلى الله عليه وسلم مِنْ مَكَّةَ قَالَ أَبُو بَكْرٍ أَخْرَجُوا نَبِيَّهُمْ لَيَهْلِكُنَّ فَأَنْزَلَ اللَّهُ ‏(‏أُذِنَ لِلَّذِينَ يُقَاتَلُونَ بِأَنَّهُمْ ظُلِمُوا وَإِنَّ اللَّهَ عَلَى نَصْرِهِمْ لَقَدِيرٌ الآيَةَ فَقَالَ أَبُو بَكْرٍ لَقَدْ عَلِمْتُ أَنَّهُ سَيَكُونُ قِتَالٌ قَالَ هَذَا حَدِيثٌ حَسَنٌ وَقَدْ رَوَاهُ عَبْدُ الرَّحْمَنِ بْنُ مَهْدِيٍّ وَغَيْرُهُ عَنْ سُفْيَانَ عَنِ الأَعْمَشِ عَنْ مُسْلِمٍ الْبَطِينِ عَنْ سَعِيدِ بْنِ جُبَيْرٍ مُرْسَلاً لَيْسَ فِيهِ عَنِ ابْنِ عَبَّاسٍ\n"
          ]
        }
      ]
    },
    {
      "cell_type": "code",
      "source": [
        "def find_and_display_variants(input_text, threshold=0.8):\n",
        "    # Clean and transform the input text\n",
        "    cleaned_input = input_text.replace('\\u200f', '')\n",
        "    input_vector = vectorizer.transform([cleaned_input])\n",
        "\n",
        "    # Compute the cosine similarity\n",
        "    cosine_sim_input = cosine_similarity(input_vector, tfidf_matrix)\n",
        "\n",
        "    # Find similar hadiths\n",
        "    similarity_scores = list(enumerate(cosine_sim_input[0]))\n",
        "    similar_hadiths_indices = [i for i, score in similarity_scores if score > threshold]\n",
        "\n",
        "    print(\"Variants of the input hadith with at least 80% similarity:\")\n",
        "    for index in similar_hadiths_indices:\n",
        "        chapter_number = df['Chapter_Number'][index]\n",
        "        hadith_number = df['Hadith_number'][index]\n",
        "        text = df['Arabic_Matn'][index]\n",
        "        print(f\"Index: {index}, Chapter: {chapter_number}, Hadith: {hadith_number}, Similarity: {cosine_sim_input[0][index]}, Text: {text}\")\n",
        "\n",
        "\n"
      ],
      "metadata": {
        "id": "L7sAkd5ZMokV"
      },
      "execution_count": 62,
      "outputs": []
    },
    {
      "cell_type": "code",
      "source": [
        "input_hadith = 'أَنَّ رَسُولَ اللَّهِ صلى الله عليه وسلم أَمَرَ بِقَتْلِ الْكِلاَبِ ثُمَّ قَالَ مَا لَهُمْ وَلِلْكِلاَبِ ثُمَّ رَخَّصَ لَهُمْ فِي كَلْبِ الصَّيْدِ'\n",
        "# Test the function with the input hadith\n",
        "find_and_display_variants(input_hadith, threshold=0.3)"
      ],
      "metadata": {
        "colab": {
          "base_uri": "https://localhost:8080/"
        },
        "id": "WZxcKiZzPZ--",
        "outputId": "7b2f506d-c833-453c-8501-6203855c2534"
      },
      "execution_count": 64,
      "outputs": [
        {
          "output_type": "stream",
          "name": "stdout",
          "text": [
            "Variants of the input hadith with at least 80% similarity:\n",
            "Index: 11460, Chapter: 59.0, Hadith: 3318.0, Similarity: 0.5166099233971857, Text: أَنَّ رَسُولَ اللَّهِ صلى الله عليه وسلم أَمَرَ بِقَتْلِ الْكِلاَبِ‏.‏\n",
            "Index: 12179, Chapter: 28, Hadith: 3246, Similarity: 1.0000000000000002, Text: أَنَّ رَسُولَ اللَّهِ صلى الله عليه وسلم أَمَرَ بِقَتْلِ الْكِلاَبِ ثُمَّ قَالَ مَا لَهُمْ وَلِلْكِلاَبِ ثُمَّ رَخَّصَ لَهُمْ فِي كَلْبِ الصَّيْدِ\n",
            "Index: 12180, Chapter: 28, Hadith: 3247, Similarity: 0.6482954153266626, Text: أَنَّ رَسُولَ اللَّهِ صلى الله عليه وسلم أَمَرَ بِقَتْلِ الْكِلاَبِ ثُمَّ قَالَ مَا لَهُمْ وَلِلْكِلاَبِ ثُمَّ رَخَّصَ لَهُمْ فِي كَلْبِ الزَّرْعِ وَكَلْبِ الْعِينِ قَالَ بُنْدَارٌ الْعِينُ حِيطَانُ الْمَدِينَةِ\n",
            "Index: 12181, Chapter: 28, Hadith: 3248, Similarity: 0.5019383484579815, Text: أَمَرَ رَسُولُ اللَّهِ صلى الله عليه وسلم بِقَتْلِ الْكِلاَبِ\n",
            "Index: 17224, Chapter: 42, Hadith: 4282, Similarity: 0.4155615000461643, Text:  أَنَّ رَسُولَ اللَّهِ صلى الله عليه وسلم أَمَرَ بِقَتْلِ الْكِلاَبِ غَيْرَ مَا اسْتَثْنَى مِنْهَا\n",
            "Index: 20127, Chapter: 1.0, Hadith: 67.0, Similarity: 0.39018014493444414, Text: أَنَّ رَسُولَ اللَّهِ صلى الله عليه وسلم أَمَرَ بِقَتْلِ الْكِلاَبِ وَرَخَّصَ فِي كَلْبِ الصَّيْدِ وَالْغَنَمِ وَقَالَ إِذَا وَلَغَ الْكَلْبُ فِي الإِنَاءِ فَاغْسِلُوهُ سَبْعَ مَرَّاتٍ وَعَفِّرُوهُ الثَّامِنَةَ بِالتُّرَابِ\n",
            "Index: 20547, Chapter: 2.0, Hadith: 337.0, Similarity: 0.39018014493444414, Text: أَنَّ رَسُولَ اللَّهِ صلى الله عليه وسلم أَمَرَ بِقَتْلِ الْكِلاَبِ وَرَخَّصَ فِي كَلْبِ الصَّيْدِ وَالْغَنَمِ وَقَالَ إِذَا وَلَغَ الْكَلْبُ فِي الإِنَاءِ فَاغْسِلُوهُ سَبْعَ مَرَّاتٍ وَعَفِّرُوهُ الثَّامِنَةَ بِالتُّرَابِ\n",
            "Index: 20548, Chapter: 2.0, Hadith: 338.0, Similarity: 0.3510607759061438, Text: أَمَرَ رَسُولُ اللَّهِ صلى الله عليه وسلم بِقَتْلِ الْكِلاَبِ قَالَ مَا بَالُهُمْ وَبَالُ الْكِلاَبِ قَالَ وَرَخَّصَ فِي كَلْبِ الصَّيْدِ وَكَلْبِ الْغَنَمِ وَقَالَ إِذَا وَلَغَ الْكَلْبُ فِي الإِنَاءِ فَاغْسِلُوهُ سَبْعَ مَرَّاتٍ وَعَفِّرُوا الثَّامِنَةَ بِالتُّرَابِ خَالَفَهُ أَبُو هُرَيْرَةَ فَقَالَ إِحْدَاهُنَّ بِالتُّرَابِ\n",
            "Index: 24671, Chapter: 22, Hadith: 3945, Similarity: 0.5268514472279845, Text: أَنَّ رَسُولَ اللَّهِ صلى الله عليه وسلم أَمَرَ بِقَتْلِ الْكِلاَبِ\n",
            "Index: 24672, Chapter: 22, Hadith: 3946, Similarity: 0.3174616821199675, Text: أَمَرَ رَسُولُ اللَّهِ صلى الله عليه وسلم بِقَتْلِ الْكِلاَبِ فَأَرْسَلَ فِي أَقْطَارِ الْمَدِينَةِ أَنْ تُقْتَلَ\n",
            "Index: 24676, Chapter: 22, Hadith: 3950, Similarity: 0.6059724186933343, Text: أَمَرَ رَسُولُ اللَّهِ صلى الله عليه وسلم بِقَتْلِ الْكِلاَبِ ثُمَّ قَالَ مَا بَالُهُمْ وَبَالُ الْكِلاَبِ ثُمَّ رَخَّصَ فِي كَلْبِ الصَّيْدِ وَكَلْبِ الْغَنَمِ\n",
            "Index: 27652, Chapter: 2.0, Hadith: 652, Similarity: 0.4714977033879148, Text: قَالَ أَمَرَ رَسُولُ اللَّهِ صلى الله عليه وسلم بِقَتْلِ الْكِلاَبِ ثُمَّ قَالَ مَا بَالُهُمْ وَبَالُ الْكِلاَبِ ثُمَّ رَخَّصَ فِي كَلْبِ الصَّيْدِ وَكَلْبِ الْغَنَمِ وَقَالَ إِذَا وَلَغَ الْكَلْبُ فِي الإِنَاءِ فَاغْسِلُوهُ سَبْعَ مَرَّاتٍ وَعَفِّرُوهُ الثَّامِنَةَ فِي التُّرَابِ\n",
            "Index: 32410, Chapter: 1.0, Hadith: 74.0, Similarity: 0.4709669586288072, Text: أَنَّ رَسُولَ اللَّهِ صلى الله عليه وسلم أَمَرَ بِقَتْلِ الْكِلاَبِ ثُمَّ قَالَ مَا لَهُمْ وَلَهَا فَرَخَّصَ فِي كَلْبِ الصَّيْدِ وَفِي كَلْبِ الْغَنَمِ وَقَالَ إِذَا وَلَغَ الْكَلْبُ فِي الإِنَاءِ فَاغْسِلُوهُ سَبْعَ مِرَارٍ وَالثَّامِنَةُ عَفِّرُوهُ بِالتُّرَابِ قَالَ أَبُو دَاوُدَ وَهَكَذَا قَالَ ابْنُ مُغَفَّلٍ\n"
          ]
        }
      ]
    }
  ]
}